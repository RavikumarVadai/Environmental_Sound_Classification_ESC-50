{
 "cells": [
  {
   "cell_type": "markdown",
   "metadata": {},
   "source": [
    "## Create new synthetic training samples by adding small perturbations on initial training set. After creating the augmented samples, convert audio samples to log-mel spectrograms."
   ]
  },
  {
   "cell_type": "code",
   "execution_count": 3,
   "metadata": {},
   "outputs": [
    {
     "name": "stdout",
     "output_type": "stream",
     "text": [
      "[INFO] import necessary packages\n"
     ]
    }
   ],
   "source": [
    "print('[INFO] import necessary packages')\n",
    "import librosa\n",
    "import pandas as pd\n",
    "import numpy as np\n",
    "from librosa import display\n",
    "import matplotlib.pyplot as plt\n",
    "import os\n",
    "from sklearn.preprocessing import scale\n",
    "import time\n",
    "import unrar\n",
    "import shutil\n",
    "from imutils import paths\n",
    "import glob"
   ]
  },
  {
   "cell_type": "code",
   "execution_count": 4,
   "metadata": {},
   "outputs": [
    {
     "name": "stdout",
     "output_type": "stream",
     "text": [
      "[INFO] read meta data from csv\n"
     ]
    },
    {
     "data": {
      "text/html": [
       "<div>\n",
       "<style scoped>\n",
       "    .dataframe tbody tr th:only-of-type {\n",
       "        vertical-align: middle;\n",
       "    }\n",
       "\n",
       "    .dataframe tbody tr th {\n",
       "        vertical-align: top;\n",
       "    }\n",
       "\n",
       "    .dataframe thead th {\n",
       "        text-align: right;\n",
       "    }\n",
       "</style>\n",
       "<table border=\"1\" class=\"dataframe\">\n",
       "  <thead>\n",
       "    <tr style=\"text-align: right;\">\n",
       "      <th></th>\n",
       "      <th>filename</th>\n",
       "      <th>fold</th>\n",
       "      <th>target</th>\n",
       "      <th>category</th>\n",
       "      <th>esc10</th>\n",
       "      <th>src_file</th>\n",
       "      <th>take</th>\n",
       "    </tr>\n",
       "  </thead>\n",
       "  <tbody>\n",
       "    <tr>\n",
       "      <th>0</th>\n",
       "      <td>1-100032-A-0.wav</td>\n",
       "      <td>1</td>\n",
       "      <td>0</td>\n",
       "      <td>dog</td>\n",
       "      <td>True</td>\n",
       "      <td>100032</td>\n",
       "      <td>A</td>\n",
       "    </tr>\n",
       "    <tr>\n",
       "      <th>1</th>\n",
       "      <td>1-100038-A-14.wav</td>\n",
       "      <td>1</td>\n",
       "      <td>14</td>\n",
       "      <td>chirping_birds</td>\n",
       "      <td>False</td>\n",
       "      <td>100038</td>\n",
       "      <td>A</td>\n",
       "    </tr>\n",
       "    <tr>\n",
       "      <th>2</th>\n",
       "      <td>1-100210-A-36.wav</td>\n",
       "      <td>1</td>\n",
       "      <td>36</td>\n",
       "      <td>vacuum_cleaner</td>\n",
       "      <td>False</td>\n",
       "      <td>100210</td>\n",
       "      <td>A</td>\n",
       "    </tr>\n",
       "    <tr>\n",
       "      <th>3</th>\n",
       "      <td>1-100210-B-36.wav</td>\n",
       "      <td>1</td>\n",
       "      <td>36</td>\n",
       "      <td>vacuum_cleaner</td>\n",
       "      <td>False</td>\n",
       "      <td>100210</td>\n",
       "      <td>B</td>\n",
       "    </tr>\n",
       "    <tr>\n",
       "      <th>4</th>\n",
       "      <td>1-101296-A-19.wav</td>\n",
       "      <td>1</td>\n",
       "      <td>19</td>\n",
       "      <td>thunderstorm</td>\n",
       "      <td>False</td>\n",
       "      <td>101296</td>\n",
       "      <td>A</td>\n",
       "    </tr>\n",
       "    <tr>\n",
       "      <th>5</th>\n",
       "      <td>1-101296-B-19.wav</td>\n",
       "      <td>1</td>\n",
       "      <td>19</td>\n",
       "      <td>thunderstorm</td>\n",
       "      <td>False</td>\n",
       "      <td>101296</td>\n",
       "      <td>B</td>\n",
       "    </tr>\n",
       "    <tr>\n",
       "      <th>6</th>\n",
       "      <td>1-101336-A-30.wav</td>\n",
       "      <td>1</td>\n",
       "      <td>30</td>\n",
       "      <td>door_wood_knock</td>\n",
       "      <td>False</td>\n",
       "      <td>101336</td>\n",
       "      <td>A</td>\n",
       "    </tr>\n",
       "    <tr>\n",
       "      <th>7</th>\n",
       "      <td>1-101404-A-34.wav</td>\n",
       "      <td>1</td>\n",
       "      <td>34</td>\n",
       "      <td>can_opening</td>\n",
       "      <td>False</td>\n",
       "      <td>101404</td>\n",
       "      <td>A</td>\n",
       "    </tr>\n",
       "    <tr>\n",
       "      <th>8</th>\n",
       "      <td>1-103298-A-9.wav</td>\n",
       "      <td>1</td>\n",
       "      <td>9</td>\n",
       "      <td>crow</td>\n",
       "      <td>False</td>\n",
       "      <td>103298</td>\n",
       "      <td>A</td>\n",
       "    </tr>\n",
       "    <tr>\n",
       "      <th>9</th>\n",
       "      <td>1-103995-A-30.wav</td>\n",
       "      <td>1</td>\n",
       "      <td>30</td>\n",
       "      <td>door_wood_knock</td>\n",
       "      <td>False</td>\n",
       "      <td>103995</td>\n",
       "      <td>A</td>\n",
       "    </tr>\n",
       "  </tbody>\n",
       "</table>\n",
       "</div>"
      ],
      "text/plain": [
       "            filename  fold  target         category  esc10  src_file take\n",
       "0   1-100032-A-0.wav     1       0              dog   True    100032    A\n",
       "1  1-100038-A-14.wav     1      14   chirping_birds  False    100038    A\n",
       "2  1-100210-A-36.wav     1      36   vacuum_cleaner  False    100210    A\n",
       "3  1-100210-B-36.wav     1      36   vacuum_cleaner  False    100210    B\n",
       "4  1-101296-A-19.wav     1      19     thunderstorm  False    101296    A\n",
       "5  1-101296-B-19.wav     1      19     thunderstorm  False    101296    B\n",
       "6  1-101336-A-30.wav     1      30  door_wood_knock  False    101336    A\n",
       "7  1-101404-A-34.wav     1      34      can_opening  False    101404    A\n",
       "8   1-103298-A-9.wav     1       9             crow  False    103298    A\n",
       "9  1-103995-A-30.wav     1      30  door_wood_knock  False    103995    A"
      ]
     },
     "execution_count": 4,
     "metadata": {},
     "output_type": "execute_result"
    }
   ],
   "source": [
    "print('[INFO] read meta data from csv')\n",
    "meta_dir = 'ESC-50-master/meta/esc50.csv'\n",
    "# Load meta data for audio files\n",
    "meta_data = pd.read_csv(meta_dir)\n",
    "labs = meta_data.category\n",
    "unique_labels = labs.unique()\n",
    "meta_data.head(10)"
   ]
  },
  {
   "cell_type": "code",
   "execution_count": 5,
   "metadata": {},
   "outputs": [
    {
     "data": {
      "text/plain": [
       "{0: 'dog',\n",
       " 1: 'rooster',\n",
       " 2: 'pig',\n",
       " 3: 'cow',\n",
       " 4: 'frog',\n",
       " 5: 'cat',\n",
       " 6: 'hen',\n",
       " 7: 'insects',\n",
       " 8: 'sheep',\n",
       " 9: 'crow',\n",
       " 10: 'rain',\n",
       " 11: 'sea_waves',\n",
       " 12: 'crackling_fire',\n",
       " 13: 'crickets',\n",
       " 14: 'chirping_birds',\n",
       " 15: 'water_drops',\n",
       " 16: 'wind',\n",
       " 17: 'pouring_water',\n",
       " 18: 'toilet_flush',\n",
       " 19: 'thunderstorm',\n",
       " 20: 'crying_baby',\n",
       " 21: 'sneezing',\n",
       " 22: 'clapping',\n",
       " 23: 'breathing',\n",
       " 24: 'coughing',\n",
       " 25: 'footsteps',\n",
       " 26: 'laughing',\n",
       " 27: 'brushing_teeth',\n",
       " 28: 'snoring',\n",
       " 29: 'drinking_sipping',\n",
       " 30: 'door_wood_knock',\n",
       " 31: 'mouse_click',\n",
       " 32: 'keyboard_typing',\n",
       " 33: 'door_wood_creaks',\n",
       " 34: 'can_opening',\n",
       " 35: 'washing_machine',\n",
       " 36: 'vacuum_cleaner',\n",
       " 37: 'clock_alarm',\n",
       " 38: 'clock_tick',\n",
       " 39: 'glass_breaking',\n",
       " 40: 'helicopter',\n",
       " 41: 'chainsaw',\n",
       " 42: 'siren',\n",
       " 43: 'car_horn',\n",
       " 44: 'engine',\n",
       " 45: 'train',\n",
       " 46: 'church_bells',\n",
       " 47: 'airplane',\n",
       " 48: 'fireworks',\n",
       " 49: 'hand_saw'}"
      ]
     },
     "execution_count": 5,
     "metadata": {},
     "output_type": "execute_result"
    }
   ],
   "source": [
    "labels = {}\n",
    "df = meta_data[['target', 'category']]\n",
    "df.category.unique(),df.target.unique()\n",
    "labels = dict(zip(df.target.unique(), df.category.unique()))\n",
    "labels"
   ]
  },
  {
   "cell_type": "code",
   "execution_count": 6,
   "metadata": {},
   "outputs": [
    {
     "name": "stdout",
     "output_type": "stream",
     "text": [
      "[INFO]: functions to create augmented audio samples\n"
     ]
    }
   ],
   "source": [
    "print('[INFO]: functions to create augmented audio samples')\n",
    "def add_noise(data):\n",
    "        noise = np.random.randn(len(data))\n",
    "        data_noise = data + 0.005 * noise\n",
    "        return data_noise\n",
    "def shift(data):\n",
    "        return np.roll(data, 4410)\n",
    "def stretch(data, rate=1):\n",
    "        input_length = len(data)\n",
    "        data = librosa.effects.time_stretch(data, rate)\n",
    "        if len(data) > input_length:\n",
    "            data = data[:input_length]\n",
    "        else:\n",
    "            data = np.pad(data, (0, max(0, input_length - len(data))), \"constant\")\n",
    "        return data\n",
    "def audio_augmentation(label,file, aug):\n",
    "    directory = 'ESC-50-master/audio_augmented_data/{label}'.format(label=label)\n",
    "    if not os.path.exists(directory):\n",
    "        os.makedirs(directory)\n",
    "    librosa.output.write_wav(directory+'/'+ file, y = aug, sr= 44100)"
   ]
  },
  {
   "cell_type": "code",
   "execution_count": null,
   "metadata": {},
   "outputs": [],
   "source": [
    "print('[INFO] generate augmented audio files')\n",
    "directory_path = 'ESC-50-master/sorted_data/'\n",
    "for i in range(len(labels)):\n",
    "    label = labels[i]\n",
    "    audio_path = os.path.join(directory_path, label)\n",
    "    # randomly taking 4 audio files and create 3 augmented samples per soundfile\n",
    "    path_ = np.random.choice(os.listdir(audio_path), size = (4,), replace= False)\n",
    "    for k,files in zip(range(len(path_)), path_):\n",
    "        data_, fs = librosa.load(os.path.join(audio_path, files), sr = 44100)\n",
    "        noise_data = add_noise(data_)\n",
    "        shift_data = shift(data_)\n",
    "        stretch_data = stretch(data_, rate= 1.2)\n",
    "        aug = [noise_data, shift_data, stretch_data]\n",
    "        for j in range(len(aug)):\n",
    "            filename = ('generated'+'-'+str(label)+str(k)+str(j)+'.wav')\n",
    "            audio_augmentation(label ,file=filename, aug = aug[j])"
   ]
  },
  {
   "cell_type": "code",
   "execution_count": 7,
   "metadata": {},
   "outputs": [
    {
     "name": "stdout",
     "output_type": "stream",
     "text": [
      "[INFO] function to create log-scaled mel spectogram and save the images\n"
     ]
    }
   ],
   "source": [
    "print('[INFO] function to create log-scaled mel spectogram and save the images')\n",
    "def save_log_mel_spectogram( audioPath,files, label, sampling_rate=44100):\n",
    "    data, sr = librosa.load(audioPath, sr=sampling_rate, mono=True)\n",
    "    # since the length of sound file is just 5secs, I'm doubling the length of sound\n",
    "    data = np.append(data,data)\n",
    "    data = scale(data)\n",
    "\n",
    "    melspec = librosa.feature.melspectrogram(y=data, sr=sr, n_mels=128)\n",
    "    # Convert to log scale (dB) using the peak power (max) as reference\n",
    "        # per suggestion from Librbosa: https://librosa.github.io/librosa/generated/librosa.feature.melspectrogram.html\n",
    "    log_melspec = librosa.power_to_db(melspec, ref=np.max)  \n",
    "    librosa.display.specshow(log_melspec, sr=sr)\n",
    "    \n",
    "    # create saving directory\n",
    "    directory = 'ESC-50-master/processed_data/{label}'.format(label=label)\n",
    "    if not os.path.exists(directory):\n",
    "        os.makedirs(directory)\n",
    "    \n",
    "    plt.savefig(directory + '/' + files.strip('.wav') + '.png')"
   ]
  },
  {
   "cell_type": "code",
   "execution_count": null,
   "metadata": {},
   "outputs": [],
   "source": [
    "print('[INFO]: Creating spectorgrams')\n",
    "augmented_data_directory_path = 'ESC-50-master/audio_augmented_data/'\n",
    "for i in range(50):\n",
    "    path = os.path.join(augmented_data_directory_path, labels[i])\n",
    "    for files in os.listdir(path):\n",
    "        audioPath = os.path.join(path, files)\n",
    "        label = labels[i]\n",
    "        save_log_mel_spectogram(audioPath,files, label, sampling_rate= 44100)"
   ]
  },
  {
   "cell_type": "code",
   "execution_count": 9,
   "metadata": {},
   "outputs": [
    {
     "name": "stdout",
     "output_type": "stream",
     "text": [
      "[INFO]: visualisation\n"
     ]
    },
    {
     "data": {
      "image/png": "[encoded data removed]",
      "text/plain": [
       "<matplotlib.figure.Figure at 0x200bfab2390>"
      ]
     },
     "metadata": {},
     "output_type": "display_data"
    }
   ],
   "source": [
    "print('[INFO]: visualisation')\n",
    "import matplotlib.pyplot as plt\n",
    "data_directory_path_cat = 'ESC-50-master/sorted_data/cat/'\n",
    "path_ = []\n",
    "for files in os.listdir(data_directory_path_cat):\n",
    "    path_.append(os.path.join(data_directory_path_cat, files))\n",
    "data_, sr = librosa.load(path_[0], sr=44100, mono=True)\n",
    "    #augmeted functions\n",
    "noise_data = add_noise(data_)\n",
    "shift_data = shift(data_)\n",
    "stretch_data = stretch(data_, rate= 1.2)\n",
    "   \n",
    "plt.figure(1, figsize=(15,8))\n",
    "plt.subplot(221)\n",
    "plt.plot(data_, 'r-')\n",
    "plt.title('cat sound')\n",
    "    \n",
    "plt.subplot(222)\n",
    "plt.plot(noise_data,'g-', )\n",
    "plt.title('cat sound with added white noise ')\n",
    "    \n",
    "plt.subplot(223)\n",
    "plt.plot(shift_data,'k-', )\n",
    "plt.title('shifted cat sound')\n",
    "    \n",
    "plt.subplot(224)\n",
    "plt.plot(stretch_data,'c-', )\n",
    "plt.title('stretched cat sound')\n",
    "plt.subplots_adjust(wspace=0.5, hspace=0.5)\n",
    "plt.show()    \n",
    "\n"
   ]
  },
  {
   "cell_type": "code",
   "execution_count": null,
   "metadata": {},
   "outputs": [],
   "source": []
  }
 ],
 "metadata": {
  "kernelspec": {
   "display_name": "Python 3",
   "language": "python",
   "name": "python3"
  },
  "language_info": {
   "codemirror_mode": {
    "name": "ipython",
    "version": 3
   },
   "file_extension": ".py",
   "mimetype": "text/x-python",
   "name": "python",
   "nbconvert_exporter": "python",
   "pygments_lexer": "ipython3",
   "version": "3.6.4"
  }
 },
 "nbformat": 4,
 "nbformat_minor": 2
}
